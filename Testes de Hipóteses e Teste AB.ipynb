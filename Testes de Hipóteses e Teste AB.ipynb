{
 "cells": [
  {
   "cell_type": "markdown",
   "metadata": {},
   "source": [
    "# Em construção"
   ]
  },
  {
   "cell_type": "markdown",
   "metadata": {},
   "source": [
    "![Alt Text](https://neilpatel.com/wp-content/uploads/2016/08/diferenca-entre-controle-e-variacao-no-teste-a-b.png)\n",
    "\n",
    "# Resumo  \n",
    "\n",
    "Testes de hipóteses são procedimentos estatísticos que permitem avaliar se uma afirmação sobre uma população é verdadeira ou falsa, com base em dados amostrais. Eles desempenham um papel fundamental na tomada de decisões, pois permitem testar a eficácia de diferentes intervenções, estratégias ou políticas. \n",
    "\n",
    "Empresas que negligenciam a adoção de uma metodologia para avaliar as consequências de suas escolhas podem incorrer em grandes prejuízos, pois podem estar baseando suas decisões em intuições, opiniões ou achismos, sem evidências empíricas. Como analista de dados, cabe-me auxiliar outros setores utilizando os dados que estão disponíveis para análise e, após os testes, indicar a ação mais correta \n",
    "\n",
    "Um tipo específico de teste de hipóteses é o teste A/B, que é muito utilizado em áreas como marketing, design, e-commerce, entre outras. Esse experimento avalia duas variantes de um mesmo produto, serviço ou processo, buscando estabelecer uma relação causal entre o tratamento (a mudança introduzida) e o efeito observado (a métrica de interesse). Por exemplo, um teste A/B pode comparar o desempenho de dois layouts diferentes de um site, duas versões diferentes de um anúncio, duas cores diferentes de um botão, etc. \n",
    "\n",
    "Na realização de um teste A/B, todo cuidado é pouco, pois a decisão pode ter consequências sérias. A escolha da métrica correta é fundamental, pois ela deve refletir o objetivo do teste e ser sensível às mudanças esperadas. Neste estágio da pesquisa, o analista deve ser meticuloso, fazendo o máximo de questionamentos possíveis para garantir que está tratando a variável de forma precisa e que pode oferecer uma explicação simples e clara. Esse zelo analítico extra deve resultar em uma explicação de fácil compreensão para os demais departamentos. \n"
   ]
  },
  {
   "cell_type": "markdown",
   "metadata": {},
   "source": [
    "# Hipóteses \n",
    "\n",
    "Todo teste estatístico possui duas hipóteses, e somente uma das delas pode ser aceita. A hipótese nula consiste na situação visível, que já ocorre. Por outro lado, a hipótese alternativa possui um valor de oposição a hipótese nula. No caso do teste A/B, temos as seguintes: \n",
    "\n",
    "● ($H_{0}$): não há diferença significativa entre as variantes tratamento e controle para a métrica de interesse. \n",
    "\n",
    "● ($H_{1}$): há diferença significativa entre as variantes tratamento e controle para a métrica de interesse. \n",
    "\n",
    "Utilizando um exemplo simples de um teste A/B: é questionado se a cor da embalagem influência na decisão de compra de um produto. Em resumo, a partir de uma amostra de tamanho ‘n’ e cálculos de inferência apropriados, será avaliado se a troca da cor vermelha para amarela tem algum impacto nas vendas. Nesse caso, a hipótese nula seria que não há diferença entre as cores, e a hipótese alternativa seria que há uma diferença significativa.  \n",
    "\n",
    "O teste A/B consistiria em dividir aleatoriamente os clientes em dois grupos: um que recebe a embalagem vermelha e outro que recebe a embalagem amarela. Em seguida, seria calculada a taxa de conversão (a proporção de clientes que compram o produto) para cada grupo e comparada usando um teste estatístico adequado. Se o resultado do teste for significativo, ou seja, se a probabilidade de obter uma diferença tão grande ou maior que a observada for muito baixa, assumindo que a hipótese nula é verdadeira, então podemos rejeitar a hipótese nula e aceitar a hipótese alternativa. Isso significa que podemos concluir que a cor da embalagem tem um efeito nas vendas. Caso contrário, se o resultado do teste não for significativo, ou seja, se a probabilidade de obter uma diferença tão grande ou maior que a observada for alta, assumindo que a hipótese nula é verdadeira, então não podemos rejeitar a hipótese nula e devemos manter a dúvida sobre o efeito da cor da embalagem. "
   ]
  },
  {
   "cell_type": "markdown",
   "metadata": {},
   "source": [
    "# Erros \n",
    "![Alt Text](https://images.prismic.io/voitto-blog/ZmQwNDA4YTQtN2ViZS00MWZmLTg3YjMtZGFkYmVhMTljMDQ5_esjqsfkrnyfs1gb9mf2zvgetvblx8hizbvea4jb4xh3bdwdfqxscuhbykoa5sdp_x8_nxqsr62mfkrpthdrgp0h9uvxz8-dq7tqzyu131ntvek8kywju_f_xdyr8gmpt6zlioann)\n",
    "\n",
    "Um cuidado necessário na realização dos testes é a avaliação da probabilidade dos erros nos cálculos que resultam em conclusões inapropriadas. \n",
    "\n",
    " São dois tipos de erros que podem ocorrer em um teste de hipóteses: o erro do tipo I e o erro do tipo II. O erro do tipo I ocorre quando rejeitamos a hipótese nula sendo ela verdadeira, ou seja, um falso positivo. Esse erro está relacionado ao nível de significância do teste, que é a probabilidade máxima de cometer esse erro que estamos dispostos a aceitar, representando um valor crítico de corte a partir do qual você pode se sentir confiante de que aquele efeito mensurado é real.  \n",
    "\n",
    "Quanto menor o nível de significância, menor a chance de rejeitar a hipótese nula incorretamente. Já o erro do tipo II ocorre quando aceitamos a hipótese nula sendo ela falsa, ou seja, um falso negativo. Esse erro está relacionado ao poder do teste, que é a probabilidade de rejeitar a hipótese nula corretamente. Quanto maior o poder do teste, menor a chance de aceitar a hipótese nula incorretamente. "
   ]
  },
  {
   "cell_type": "markdown",
   "metadata": {},
   "source": [
    "# Muito cuidado \n",
    "\n",
    "Ao estudarmos a teoria para testes de hipóteses, nos deparamos com uma vasta literatura e percebemos a complexidade do assunto. Por exemplo, existe a distinção entre testes independentes e testes pareados. A diferença principal reside no fato de que, nos testes independentes, analisamos elementos pertencentes a grupos distintos. Por outro lado, nos testes pareados, examinamos o mesmo grupo após uma intervenção específica realizada pelo pesquisador. Poderíamos usar um único grupo para avaliar se houve uma mudança no comportamento de compra após uma campanha de marketing, ou poderíamos comparar dois grupos diferentes. A escolha do tipo de teste é determinada pelo desenho do estudo. \n",
    "\n",
    "Outra questão que precisa ser analisada é a normalidade dos dados. Se houver dados disponíveis, deve-se realizar o teste de normalidade para definir o tipo de teste a ser aplicado. Existem vários testes de normalidade, como o teste de Shapiro-Wilk, o teste de Kolmogorov-Smirnov, entre outros. Esses testes verificam se os dados seguem uma distribuição normal, ou seja, uma distribuição simétrica em forma de sino, que é muito comum na natureza e na ciência. Na ausência de informações preliminares, pode-se adotar o pressuposto de que a distribuição em análise é normal. No entanto, esse pressuposto pode ser falso e levar a conclusões erradas. Por isso, é recomendável verificar a normalidade dos dados sempre que possível. \n",
    "\n",
    "Muitos cuidados são necessários para a realização do teste de hipóteses. No entanto, não podemos resumir esses cuidados apenas à escolha do teste adequado. Todo o processo que leva à seleção do teste correto deve ser realizado com atenção, respeitando o método científico. Isso inclui a utilização de amostras aleatórias para evitar qualquer viés, a definição clara das hipóteses nula e alternativa, a determinação do nível de significância e do poder do teste, a análise dos resultados e a interpretação dos achados. Além disso, deve-se considerar as limitações do teste e as possíveis fontes de erro. "
   ]
  },
  {
   "cell_type": "markdown",
   "metadata": {},
   "source": [
    "# Amostra  \n",
    "\n",
    "Voltando ao teste A/B, adotando um teste t, o tamanho da amostra depende de alguns fatores, como o nível de significância, o poder do teste e o tamanho do efeito. O nível de significância (ou p-valor) é a probabilidade de rejeitar a hipótese nula quando ela é verdadeira, ou seja, de cometer um erro do tipo I. Geralmente, o valor da significância é de 5%, mas pode variar de acordo com o contexto. Por exemplo, em testes que envolvem elementos de segurança (como na análise da flexibilidade da asa de um avião), os valores precisam ser significativamente menores, para evitar falsos positivos.\n",
    "\n",
    "O poder do teste é a probabilidade de rejeitar a hipótese nula quando ela é falsa, ou seja, de detectar um efeito real. O poder do teste é afetado pelo tamanho do efeito, que é a diferença entre as médias das versões comparadas. Quanto maior o tamanho do efeito, mais fácil é identificá-lo. O poder do teste também é influenciado pelo tamanho da amostra: quanto maior a amostra, maior o poder.\n",
    "\n",
    "Portanto, para determinar o tamanho da amostra, é preciso definir os valores de significância, poder e tamanho do efeito desejados. Existem algumas ferramentas que auxiliam nesse cálculo, como a função TTestIndPower do pacote statsmodels da linguagem Python. Essa função recebe como parâmetros os valores de significância, poder e tamanho do efeito, e retorna o tamanho da amostra necessário para realizar um teste t de duas amostras independentes."
   ]
  },
  {
   "cell_type": "markdown",
   "metadata": {},
   "source": [
    "\n",
    "Voltando ao teste A/B, adotando um teste t, o tamanho da amostra depende de alguns fatores, como o nível de significância, o poder do teste e o tamanho do efeito. O nível de significância (ou p-valor) é a probabilidade de rejeitar a hipótese nula quando ela é verdadeira, ou seja, de cometer um erro do tipo I. Geralmente, o valor da significância é de 5%, mas pode variar de acordo com o contexto. Por exemplo, em testes que envolvem elementos de segurança (como na análise da flexibilidade da asa de um avião), os valores precisam ser significativamente menores, para evitar falsos positivos.\n",
    "\n",
    "O poder do teste é a probabilidade de rejeitar a hipótese nula quando ela é falsa, ou seja, de detectar um efeito real. O poder do teste é afetado pelo tamanho do efeito, que é a diferença entre as médias das versões comparadas. Quanto maior o tamanho do efeito, mais fácil é identificá-lo. O poder do teste também é influenciado pelo tamanho da amostra: quanto maior a amostra, maior o poder.\n",
    "\n",
    "Portanto, para determinar o tamanho da amostra, é preciso definir os valores de significância, poder e tamanho do efeito desejados. Existem algumas ferramentas que auxiliam nesse cálculo, como a função TTestIndPower do pacote statsmodels da linguagem Python. Essa função recebe como parâmetros os valores de significância, poder e tamanho do efeito, e retorna o tamanho da amostra necessário para realizar um teste t de duas amostras independentes."
   ]
  },
  {
   "cell_type": "code",
   "execution_count": 2,
   "metadata": {},
   "outputs": [],
   "source": [
    "import numpy as np\n",
    "from statsmodels.stats.power import TTestIndPower\n",
    "t_solver = TTestIndPower()\n",
    "\n",
    "class SampleSizeCalculator:\n",
    "    def __init__(self):\n",
    "        self.t_solver = TTestIndPower()\n",
    "\n",
    "    def calculate_sample_size_effect(self, effect_sizes, alpha, power, alternative='two-sided'):\n",
    "        sample_sizes = []\n",
    "\n",
    "        for effect_size in effect_sizes:\n",
    "            sample_size = self.t_solver.solve_power(effect_size=effect_size, alpha=alpha, power=power, alternative=alternative)\n",
    "            sample_sizes.append(sample_size)\n",
    "\n",
    "        return sample_sizes\n",
    "\n",
    "    def calculate_sample_size_alpha(self, effect, alpha_sizes, power, alternative='two-sided'):\n",
    "        sample_sizes = []\n",
    "\n",
    "        for alpha_size in alpha_sizes:\n",
    "            sample_size = self.t_solver.solve_power(effect, alpha=alpha_size, power=power, alternative=alternative)\n",
    "            sample_sizes.append(sample_size)\n",
    "\n",
    "        return sample_sizes\n",
    "\n",
    "    def calculate_sample_size_power(self, effect, alpha, power_sizes, alternative='two-sided'):\n",
    "        sample_sizes = []\n",
    "\n",
    "        for power_size in power_sizes:\n",
    "            sample_size = self.t_solver.solve_power(effect, alpha=alpha, power=power_size, alternative=alternative)\n",
    "            sample_sizes.append(sample_size)\n",
    "\n",
    "        return sample_sizes\n",
    "\n",
    "calculator = SampleSizeCalculator()"
   ]
  },
  {
   "cell_type": "markdown",
   "metadata": {},
   "source": [
    "Demosntrando que os valores escolhidos para o cálculo da amostra, utilizamos três funções variando o efeito, o $\\alpha$ e, por último, o valor da potência do teste. \n",
    "\n",
    "## Amostra para o diferente tamanhos de efeitos\n"
   ]
  },
  {
   "cell_type": "code",
   "execution_count": 3,
   "metadata": {},
   "outputs": [
    {
     "name": "stdout",
     "output_type": "stream",
     "text": [
      "Effect Size: -0.05, Sample Size: 6280.0\n",
      "Effect Size: -0.06, Sample Size: 4361.0\n",
      "Effect Size: -0.07, Sample Size: 3205.0\n",
      "Effect Size: -0.08, Sample Size: 2454.0\n",
      "Effect Size: -0.09, Sample Size: 1939.0\n",
      "Effect Size: -0.1, Sample Size: 1571.0\n"
     ]
    }
   ],
   "source": [
    "# Effect Size Calculation\n",
    "effect_sizes_range = [round(x, 2) for x in list(np.arange(-0.05, -0.11, -0.01))]\n",
    "alpha_value = 0.05\n",
    "power_value = 0.80\n",
    "sample_sizes_result = calculator.calculate_sample_size_effect(effect_sizes_range, alpha_value, power_value)\n",
    "\n",
    "# Display the result\n",
    "for effect_size, sample_size in zip(effect_sizes_range, sample_sizes_result):\n",
    "    print(f\"Effect Size: {effect_size}, Sample Size: {round(sample_size,0)}\")"
   ]
  },
  {
   "cell_type": "markdown",
   "metadata": {},
   "source": [
    "## Amostra para o diferente tamanhos de intervalos de confiança"
   ]
  },
  {
   "cell_type": "code",
   "execution_count": 4,
   "metadata": {},
   "outputs": [
    {
     "name": "stdout",
     "output_type": "stream",
     "text": [
      "Alpha: 0.01, Sample Size: 9345.0\n",
      "Alpha: 0.03, Sample Size: 7258.0\n",
      "Alpha: 0.05, Sample Size: 6280.0\n",
      "Alpha: 0.07, Sample Size: 5634.0\n",
      "Alpha: 0.09, Sample Size: 5150.0\n"
     ]
    }
   ],
   "source": [
    "# Alpha Calculation\n",
    "alpha_sizes_range = [round(x, 2) for x in list(np.arange(0.01, 0.11, 0.02))]\n",
    "effect_size = -0.05\n",
    "power_value = 0.80\n",
    "sample_sizes_result = calculator.calculate_sample_size_alpha(effect_size, alpha_sizes_range, power_value)\n",
    "\n",
    "# Display the result\n",
    "for alpha_size, sample_size in zip(alpha_sizes_range, sample_sizes_result):\n",
    "    print(f\"Alpha: {alpha_size}, Sample Size: {round(sample_size, 0)}\")"
   ]
  },
  {
   "cell_type": "markdown",
   "metadata": {},
   "source": [
    "# Amostra para diferentes tamanhos do poder"
   ]
  },
  {
   "cell_type": "code",
   "execution_count": 5,
   "metadata": {},
   "outputs": [
    {
     "name": "stdout",
     "output_type": "stream",
     "text": [
      "Power: 0.8, Sample Size: 6280.0\n",
      "Power: 0.82, Sample Size: 6615.0\n",
      "Power: 0.84, Sample Size: 6984.0\n",
      "Power: 0.86, Sample Size: 7396.0\n",
      "Power: 0.88, Sample Size: 7863.0\n",
      "Power: 0.9, Sample Size: 8407.0\n"
     ]
    }
   ],
   "source": [
    "# Power Calculation\n",
    "power_sizes_range = [round(x, 2) for x in list(np.arange(0.8, 0.91, 0.02))]\n",
    "effect_size = -0.05\n",
    "alpha_value = 0.05\n",
    "sample_sizes_result = calculator.calculate_sample_size_power(effect_size, alpha_value, power_sizes_range)\n",
    "\n",
    "# Display the result\n",
    "for power_size, sample_size in zip(power_sizes_range, sample_sizes_result):\n",
    "    print(f\"Power: {power_size}, Sample Size: {round(sample_size, 0)}\")"
   ]
  },
  {
   "cell_type": "markdown",
   "metadata": {},
   "source": [
    "Como demonstrado, alterações nos valores referente aos teste, modificacam o valor o tamanho da amostra. O resultado final dependerá do poder da empresa ou instituição pública para formentar a pesquisa. "
   ]
  }
 ],
 "metadata": {
  "kernelspec": {
   "display_name": "Python 3",
   "language": "python",
   "name": "python3"
  },
  "language_info": {
   "codemirror_mode": {
    "name": "ipython",
    "version": 3
   },
   "file_extension": ".py",
   "mimetype": "text/x-python",
   "name": "python",
   "nbconvert_exporter": "python",
   "pygments_lexer": "ipython3",
   "version": "3.11.6"
  }
 },
 "nbformat": 4,
 "nbformat_minor": 2
}
